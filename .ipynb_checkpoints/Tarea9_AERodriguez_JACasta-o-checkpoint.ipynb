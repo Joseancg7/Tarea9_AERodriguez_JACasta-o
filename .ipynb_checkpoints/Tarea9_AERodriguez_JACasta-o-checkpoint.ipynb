{
 "cells": [
  {
   "cell_type": "markdown",
   "id": "suburban-shower",
   "metadata": {},
   "source": [
    "<img style=\"float: left; margin: 30px 15px 15px 15px;\" src=\"https://pngimage.net/wp-content/uploads/2018/06/logo-iteso-png-5.png\" width=\"300\" height=\"500\" /> \n",
    "    \n",
    "    \n",
    "### <font color='navy'> Simulación de procesos financieros. \n",
    "\n",
    "**Nombres:** Ana Esmeralda Rodríguez Rodríguez y José Antonio Castaño Gutiérrez\n",
    "\n",
    "**Fecha:** 23 de Abril del 2021.\n",
    "\n",
    "**Expediente** : 709288 y 711469.\n",
    "**Profesor:** Oscar David Jaramillo Zuluaga.\n",
    "\n",
    "# Tarea 9: Clase 22\n",
    "**Link al repositorio en Github**: https://github.com/Joseancg7/Tarea9_AERodriguez_JACasta-o"
   ]
  },
  {
   "cell_type": "markdown",
   "id": "threaded-rebound",
   "metadata": {},
   "source": [
    "# <font color = 'red'> Tarea: </font>\n",
    "Replicar el procedimiento anterior para valoración de opciones 'call', pero en este caso para opciones tipo 'put' y compararlo con el valor teórico de la ecuación de Black-Scholes"
   ]
  },
  {
   "cell_type": "markdown",
   "id": "magnetic-protest",
   "metadata": {},
   "source": [
    "### Solución José Antonio"
   ]
  },
  {
   "cell_type": "code",
   "execution_count": null,
   "id": "liable-disco",
   "metadata": {},
   "outputs": [],
   "source": []
  },
  {
   "cell_type": "code",
   "execution_count": null,
   "id": "subjective-lancaster",
   "metadata": {},
   "outputs": [],
   "source": []
  },
  {
   "cell_type": "code",
   "execution_count": null,
   "id": "resident-browser",
   "metadata": {},
   "outputs": [],
   "source": []
  },
  {
   "cell_type": "markdown",
   "id": "japanese-public",
   "metadata": {},
   "source": [
    "### Solución Ana Esmeralda"
   ]
  },
  {
   "cell_type": "code",
   "execution_count": null,
   "id": "confirmed-edinburgh",
   "metadata": {},
   "outputs": [],
   "source": []
  }
 ],
 "metadata": {
  "kernelspec": {
   "display_name": "Python 3",
   "language": "python",
   "name": "python3"
  },
  "language_info": {
   "codemirror_mode": {
    "name": "ipython",
    "version": 3
   },
   "file_extension": ".py",
   "mimetype": "text/x-python",
   "name": "python",
   "nbconvert_exporter": "python",
   "pygments_lexer": "ipython3",
   "version": "3.8.3"
  }
 },
 "nbformat": 4,
 "nbformat_minor": 5
}
